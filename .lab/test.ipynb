{
 "cells": [
  {
   "cell_type": "code",
   "execution_count": 1,
   "metadata": {},
   "outputs": [],
   "source": [
    "from omnicloud.airport.pydantic.terminals import BaseModel\n",
    "from omnicloud.airport.terminals import Dict\n",
    "\n",
    "from os import environ as env\n",
    "env['OMNICLOUD_AIRPORT_DEVPATH'] = '/home/iurii/proj/omni/py.airport.pydantic'"
   ]
  },
  {
   "cell_type": "code",
   "execution_count": 2,
   "metadata": {},
   "outputs": [],
   "source": [
    "class X(BaseModel):\n",
    "    a: int\n",
    "    b: int\n",
    "\n",
    "x = X(a=1, b=2)\n",
    "\n",
    "d = Dict({'a': 1, 'b': 2})"
   ]
  },
  {
   "cell_type": "code",
   "execution_count": 3,
   "metadata": {},
   "outputs": [
    {
     "name": "stdout",
     "output_type": "stream",
     "text": [
      "parent_of_terminal: _dict\n",
      "LocalJSON\n",
      "parent_of_gate: _dict._local\n"
     ]
    }
   ],
   "source": [
    "d.departure('LocalJSON::.', 'test.json')"
   ]
  },
  {
   "cell_type": "code",
   "execution_count": 6,
   "metadata": {},
   "outputs": [
    {
     "name": "stdout",
     "output_type": "stream",
     "text": [
      "parent_of_terminal: omnicloud.airport.pydantic.terminals._base_model\n",
      "LocalJSON\n",
      "parent_of_gate: _dict._local\n",
      "LocalYAML\n",
      "parent_of_gate: _dict._local\n",
      "LocalJSON\n",
      "parent_of_gate: omnicloud.airport.pydantic.terminals._base_model._local\n"
     ]
    },
    {
     "ename": "TypeError",
     "evalue": "Building.departure() missing 1 required positional argument: 'name'",
     "output_type": "error",
     "traceback": [
      "\u001b[0;31m---------------------------------------------------------------------------\u001b[0m",
      "\u001b[0;31mTypeError\u001b[0m                                 Traceback (most recent call last)",
      "Cell \u001b[0;32mIn[6], line 1\u001b[0m\n\u001b[0;32m----> 1\u001b[0m x\u001b[39m.\u001b[39;49mdeparture(\u001b[39m'\u001b[39;49m\u001b[39mLocalJSON::.\u001b[39;49m\u001b[39m'\u001b[39;49m, \u001b[39m'\u001b[39;49m\u001b[39mtest.json\u001b[39;49m\u001b[39m'\u001b[39;49m, pot\u001b[39m=\u001b[39;49m\u001b[39m'\u001b[39;49m\u001b[39momnicloud.airport.pydantic.terminals._base_model\u001b[39;49m\u001b[39m'\u001b[39;49m)\n",
      "File \u001b[0;32m~/.cache/pypoetry/virtualenvs/omnicloud-airport-pydantic-PUZM9mFz-py3.10/lib/python3.10/site-packages/omnicloud/airport/abc/_terminal.py:61\u001b[0m, in \u001b[0;36mBuilding.departure\u001b[0;34m(self, waybill, name, pot)\u001b[0m\n\u001b[1;32m     59\u001b[0m \u001b[39mdef\u001b[39;00m \u001b[39mdeparture\u001b[39m(\u001b[39mself\u001b[39m, waybill: \u001b[39mstr\u001b[39m, name: \u001b[39mstr\u001b[39m, pot: \u001b[39mstr\u001b[39m \u001b[39m|\u001b[39m \u001b[39mNone\u001b[39;00m \u001b[39m=\u001b[39m \u001b[39mNone\u001b[39;00m):\n\u001b[1;32m     60\u001b[0m     gate, place, options \u001b[39m=\u001b[39m \u001b[39mself\u001b[39m\u001b[39m.\u001b[39mwaybill_reader(waybill, name, pot)\n\u001b[0;32m---> 61\u001b[0m     \u001b[39mreturn\u001b[39;00m gate\u001b[39m.\u001b[39mdeparture(\u001b[39mself\u001b[39m\u001b[39m.\u001b[39mparcel, place, \u001b[39m*\u001b[39m\u001b[39m*\u001b[39moptions) \u001b[39mif\u001b[39;00m options \u001b[39melse\u001b[39;00m gate\u001b[39m.\u001b[39;49mdeparture(\u001b[39mself\u001b[39;49m\u001b[39m.\u001b[39;49mparcel, place)\n",
      "File \u001b[0;32m~/proj/omni/py.airport.pydantic/omnicloud/airport/pydantic/terminals/_base_model/_local/json.py:23\u001b[0m, in \u001b[0;36mLocalJSON.departure\u001b[0;34m(cls, parcel, place, **options)\u001b[0m\n\u001b[1;32m     19\u001b[0m \u001b[39m@classmethod\u001b[39m\n\u001b[1;32m     20\u001b[0m \u001b[39mdef\u001b[39;00m \u001b[39mdeparture\u001b[39m(\u001b[39mcls\u001b[39m, parcel, place: \u001b[39mstr\u001b[39m, \u001b[39m*\u001b[39m\u001b[39m*\u001b[39moptions):\n\u001b[1;32m     22\u001b[0m     option_string \u001b[39m=\u001b[39m \u001b[39m'\u001b[39m\u001b[39m,\u001b[39m\u001b[39m'\u001b[39m\u001b[39m.\u001b[39mjoin([\u001b[39mf\u001b[39m\u001b[39m'\u001b[39m\u001b[39m{\u001b[39;00mk\u001b[39m}\u001b[39;00m\u001b[39m=\u001b[39m\u001b[39m{\u001b[39;00mv\u001b[39m}\u001b[39;00m\u001b[39m'\u001b[39m \u001b[39mfor\u001b[39;00m k, v \u001b[39min\u001b[39;00m options\u001b[39m.\u001b[39mitems()])\n\u001b[0;32m---> 23\u001b[0m     Dict\u001b[39m.\u001b[39;49mdeparture(parcel, \u001b[39mf\u001b[39;49m\u001b[39m'\u001b[39;49m\u001b[39mLocalJSON::\u001b[39;49m\u001b[39m{\u001b[39;49;00mplace\u001b[39m}\u001b[39;49;00m\u001b[39m::\u001b[39;49m\u001b[39m{\u001b[39;49;00moption_string\u001b[39m}\u001b[39;49;00m\u001b[39m'\u001b[39;49m)\n",
      "\u001b[0;31mTypeError\u001b[0m: Building.departure() missing 1 required positional argument: 'name'"
     ]
    }
   ],
   "source": [
    "x.departure('LocalJSON::.', 'test.json', pot='omnicloud.airport.pydantic.terminals._base_model')"
   ]
  },
  {
   "cell_type": "code",
   "execution_count": null,
   "metadata": {},
   "outputs": [],
   "source": [
    "from sys import modules as md\n",
    "from collections import OrderedDict\n",
    "\n",
    "m = {k:v for k, v in md.items() if 'omnicloud' in k}\n",
    "OrderedDict(sorted(m.items(), key=lambda t: t[0]))\n"
   ]
  }
 ],
 "metadata": {
  "kernelspec": {
   "display_name": "omnicloud-airport-pydantic-PUZM9mFz-py3.10",
   "language": "python",
   "name": "python3"
  },
  "language_info": {
   "codemirror_mode": {
    "name": "ipython",
    "version": 3
   },
   "file_extension": ".py",
   "mimetype": "text/x-python",
   "name": "python",
   "nbconvert_exporter": "python",
   "pygments_lexer": "ipython3",
   "version": "3.10.5"
  },
  "orig_nbformat": 4
 },
 "nbformat": 4,
 "nbformat_minor": 2
}
